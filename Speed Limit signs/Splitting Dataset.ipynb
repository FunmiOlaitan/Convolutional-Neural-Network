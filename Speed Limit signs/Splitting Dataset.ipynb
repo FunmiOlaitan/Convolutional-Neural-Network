{
 "cells": [
  {
   "cell_type": "code",
   "execution_count": 17,
   "metadata": {},
   "outputs": [
    {
     "name": "stdout",
     "output_type": "stream",
     "text": [
      "Requirement already satisfied: split_folders in c:\\users\\funmi\\anaconda3\\envs\\gputest\\lib\\site-packages (0.4.3)\n"
     ]
    }
   ],
   "source": [
    "import splitfolders\n",
    "!pip install split_folders"
   ]
  },
  {
   "cell_type": "code",
   "execution_count": 18,
   "metadata": {},
   "outputs": [],
   "source": [
    "input = \"C:/Users/funmi/Documents/Dataset\"\n",
    "output = \"C:/Users/funmi/Documents\"  #where you want the split datasets saved. one will be created if none is set\n",
    "\n",
    "splitfolders.ratio(input, output=\"Roadsignfile\", seed=42, ratio=(.64, .2, .16)) # ratio of split are in order of train/val/test. You can change to whatever you want. For train/val sets only, you could do .75, .25 for example."
   ]
  }
 ],
 "metadata": {
  "kernelspec": {
   "display_name": "gputest",
   "language": "python",
   "name": "gputest"
  },
  "language_info": {
   "codemirror_mode": {
    "name": "ipython",
    "version": 3
   },
   "file_extension": ".py",
   "mimetype": "text/x-python",
   "name": "python",
   "nbconvert_exporter": "python",
   "pygments_lexer": "ipython3",
   "version": "3.7.9"
  }
 },
 "nbformat": 4,
 "nbformat_minor": 4
}
