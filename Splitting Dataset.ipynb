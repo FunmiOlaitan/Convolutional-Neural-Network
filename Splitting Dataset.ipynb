{
 "cells": [
  {
   "cell_type": "code",
   "execution_count": 17,
   "metadata": {},
   "outputs": [
    {
     "name": "stdout",
     "output_type": "stream",
     "text": [
      "Requirement already satisfied: split_folders in c:\\users\\funmi\\anaconda3\\envs\\gputest\\lib\\site-packages (0.4.3)\n"
     ]
    }
   ],
   "source": [
    "import splitfolders  # # Importing the splitfolders library for dataset splitting\n",
    "!pip install split_folders  # # Installing the split_folders library if not already installed"
   ]
  },
  {
   "cell_type": "code",
   "execution_count": 18,
   "metadata": {},
   "outputs": [],
   "source": [
    "input = \"C:/Users/funmi/Documents/Dataset\"   # Input directory containing the dataset to be split\n",
    "output = \"C:/Users/funmi/Documents\"  # Output directory where the split datasets will be saved\n",
    "\n",
    "splitfolders.ratio(input, output=\"Roadsignfile\", seed=42, ratio=(.64, .2, .16)) # Splitting the dataset into train, validation, and test sets with specified ratios"
   ]
  }
 ],
 "metadata": {
  "kernelspec": {
   "display_name": "gputest",
   "language": "python",
   "name": "gputest"
  },
  "language_info": {
   "codemirror_mode": {
    "name": "ipython",
    "version": 3
   },
   "file_extension": ".py",
   "mimetype": "text/x-python",
   "name": "python",
   "nbconvert_exporter": "python",
   "pygments_lexer": "ipython3",
   "version": "3.7.9"
  }
 },
 "nbformat": 4,
 "nbformat_minor": 4
}
