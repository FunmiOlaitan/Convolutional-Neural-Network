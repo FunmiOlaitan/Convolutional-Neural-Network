{
 "cells": [
  {
   "cell_type": "code",
   "execution_count": 1,
   "metadata": {},
   "outputs": [
    {
     "name": "stderr",
     "output_type": "stream",
     "text": [
      "ERROR: Invalid requirement: '#'\n"
     ]
    }
   ],
   "source": [
    "import splitfolders  # # Importing the splitfolders library for dataset splitting\n",
    "!pip install split_folders  # # Installing the split_folders library if not already installed"
   ]
  },
  {
   "cell_type": "code",
   "execution_count": 2,
   "metadata": {},
   "outputs": [
    {
     "name": "stderr",
     "output_type": "stream",
     "text": [
      "Copying files: 4170 files [00:09, 456.87 files/s]\n"
     ]
    }
   ],
   "source": [
    "input = \"C:/Users/funmi/GitRepositories/Road-Sign-Detection/traffic_Data/DATA\"   # Input directory containing the dataset to be split\n",
    "output = \"C:/Users/funmi/GitRepositories/Road-Sign-Detection/traffic_Data\"  # Output directory where the split datasets will be saved\n",
    "\n",
    "splitfolders.ratio(input, output=\"Roadsignfile\", seed=42, ratio=(.8, .2)) # Splitting the dataset into train and validation, with the specified ratios"
   ]
  }
 ],
 "metadata": {
  "kernelspec": {
   "display_name": "gputest",
   "language": "python",
   "name": "gputest"
  },
  "language_info": {
   "codemirror_mode": {
    "name": "ipython",
    "version": 3
   },
   "file_extension": ".py",
   "mimetype": "text/x-python",
   "name": "python",
   "nbconvert_exporter": "python",
   "pygments_lexer": "ipython3",
   "version": "3.7.9"
  }
 },
 "nbformat": 4,
 "nbformat_minor": 4
}
