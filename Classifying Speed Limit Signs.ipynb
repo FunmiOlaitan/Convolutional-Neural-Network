{
 "cells": [
  {
   "cell_type": "markdown",
   "metadata": {},
   "source": [
    "# **Load, analyse and visualize dataset**"
   ]
  },
  {
   "cell_type": "code",
   "execution_count": 1,
   "metadata": {},
   "outputs": [],
   "source": [
    "from tensorflow.keras.layers import Dense, Dropout, Activation, Flatten, Conv2D, MaxPooling2D\n",
    "from tensorflow.keras.preprocessing.image import ImageDataGenerator\n",
    "from tensorflow.keras.models import Sequential\n",
    "from tensorflow.keras.models import load_model\n",
    "from tensorflow.keras.optimizers import Adam \n",
    "import matplotlib.pyplot as plt\n",
    "import tensorflow as tf\n",
    "import pandas as pd \n",
    "import numpy as np\n",
    "import cv2\n",
    "import os"
   ]
  },
  {
   "cell_type": "code",
   "execution_count": 2,
   "metadata": {},
   "outputs": [],
   "source": [
    "# Define paths\n",
    "\n",
    "base_path = \"C:/Users/funmi/GitRepositories/Road-Sign-Detection\"\n",
    "training_folder = os.path.join(base_path, 'traffic_Data/TRAIN')\n",
    "val_folder = os.path.join(base_path, 'traffic_Data/VAL')\n",
    "\n",
    "# Load labels\n",
    "labels_df = pd.read_csv(os.path.join(base_path, 'labels.csv'))\n",
    "\n",
    "# Create mapping between class names and indices\n",
    "class_names = sorted(labels_df['ClassId'].unique())\n",
    "num_classes = len(class_names)\n",
    "class_name_to_index = {class_name: index for index, class_name in enumerate(class_names)}"
   ]
  },
  {
   "cell_type": "markdown",
   "metadata": {},
   "source": [
    "# **Preprocessing steps**"
   ]
  },
  {
   "cell_type": "code",
   "execution_count": 3,
   "metadata": {},
   "outputs": [
    {
     "name": "stdout",
     "output_type": "stream",
     "text": [
      "Found 3313 images belonging to 58 classes.\n",
      "Found 857 images belonging to 58 classes.\n"
     ]
    }
   ],
   "source": [
    "# Image dimensions and batch size\n",
    "image_shape = (75,75)\n",
    "batch_size = 32\n",
    "\n",
    "# Data preprocessing and augmentation\n",
    "train_datagen = ImageDataGenerator(rescale = 1./255, \n",
    "                            rotation_range=10, # rotate image by 10 degrees\n",
    "                            width_shift_range=0.1, # shift images horizontally by 10%\n",
    "                            height_shift_range=0.1, # shift images vertically by 10%\n",
    "                            shear_range=0.1, # applies shear transformation\n",
    "                            zoom_range=0.1,  # zoom image by 10%\n",
    "                            horizontal_flip=True, # flips horizontally\n",
    "                            vertical_flip=False, # does not flip image vertically\n",
    "                            fill_mode='nearest', # fills in newly created pixels using nearest pixel value\n",
    "                            validation_split=0.2\n",
    "                            )\n",
    "val_datagen = ImageDataGenerator(rescale = 1./255)\n",
    "\n",
    "# Generate training data\n",
    "train_generator = train_datagen.flow_from_directory(\n",
    "                            training_folder,\n",
    "                            class_mode ='categorical',\n",
    "                            batch_size = batch_size,\n",
    "                            target_size = image_shape\n",
    "                        )\n",
    "\n",
    "# Generate validation data\n",
    "validation_generator = val_datagen.flow_from_directory(\n",
    "                            val_folder,\n",
    "                            class_mode ='categorical',\n",
    "                            batch_size = batch_size,\n",
    "                            target_size = image_shape\n",
    "                        )"
   ]
  },
  {
   "cell_type": "code",
   "execution_count": 4,
   "metadata": {},
   "outputs": [
    {
     "name": "stdout",
     "output_type": "stream",
     "text": [
      "(32, 75, 75, 3)\n"
     ]
    }
   ],
   "source": [
    "batch = next(train_generator)\n",
    "print(batch[0].shape)"
   ]
  },
  {
   "cell_type": "markdown",
   "metadata": {},
   "source": [
    "# **Build a custom model**"
   ]
  },
  {
   "cell_type": "code",
   "execution_count": 5,
   "metadata": {},
   "outputs": [],
   "source": [
    "# Building CNN Model\n",
    "noOfFilters=32\n",
    "sizeOfFilter=(3,3)\n",
    "imageDimensions = (75,75,3)\n",
    "\n",
    "model = Sequential()\n",
    "\n",
    "#input layer\n",
    "model.add(Conv2D(noOfFilters, sizeOfFilter, padding='same', activation='relu',\n",
    "                input_shape=imageDimensions))\n",
    "model.add(MaxPooling2D(pool_size=(2,2)))\n",
    "model.add(Dropout(0.2))\n",
    "\n",
    "#First hidden layer\n",
    "model.add(Conv2D(64, (3,3), padding='same', activation='relu'))\n",
    "model.add(MaxPooling2D(pool_size=(2,2)))\n",
    "model.add(Dropout(0.2))\n",
    "\n",
    "#Second hidden layer\n",
    "model.add(Conv2D(64, (3,3), padding='same', activation='relu'))\n",
    "model.add(MaxPooling2D(pool_size=(2,2)))\n",
    "model.add(Dropout(0.2))\n",
    "\n",
    "#Third hidden Layer\n",
    "model.add(Flatten())\n",
    "model.add(Dense(256, activation='relu'))\n",
    "model.add(Dropout(0.2))\n",
    "\n",
    "#Output layer\n",
    "model.add(Dense(train_generator.num_classes, activation='softmax'))\n",
    "\n",
    "model.compile(loss='categorical_crossentropy',\n",
    "              optimizer=Adam(learning_rate=0.001),\n",
    "              metrics=['accuracy'])"
   ]
  },
  {
   "cell_type": "code",
   "execution_count": 6,
   "metadata": {},
   "outputs": [
    {
     "name": "stdout",
     "output_type": "stream",
     "text": [
      "Model: \"sequential\"\n",
      "_________________________________________________________________\n",
      "Layer (type)                 Output Shape              Param #   \n",
      "=================================================================\n",
      "conv2d (Conv2D)              (None, 75, 75, 32)        896       \n",
      "_________________________________________________________________\n",
      "max_pooling2d (MaxPooling2D) (None, 37, 37, 32)        0         \n",
      "_________________________________________________________________\n",
      "dropout (Dropout)            (None, 37, 37, 32)        0         \n",
      "_________________________________________________________________\n",
      "conv2d_1 (Conv2D)            (None, 37, 37, 64)        18496     \n",
      "_________________________________________________________________\n",
      "max_pooling2d_1 (MaxPooling2 (None, 18, 18, 64)        0         \n",
      "_________________________________________________________________\n",
      "dropout_1 (Dropout)          (None, 18, 18, 64)        0         \n",
      "_________________________________________________________________\n",
      "conv2d_2 (Conv2D)            (None, 18, 18, 64)        36928     \n",
      "_________________________________________________________________\n",
      "max_pooling2d_2 (MaxPooling2 (None, 9, 9, 64)          0         \n",
      "_________________________________________________________________\n",
      "dropout_2 (Dropout)          (None, 9, 9, 64)          0         \n",
      "_________________________________________________________________\n",
      "flatten (Flatten)            (None, 5184)              0         \n",
      "_________________________________________________________________\n",
      "dense (Dense)                (None, 256)               1327360   \n",
      "_________________________________________________________________\n",
      "dropout_3 (Dropout)          (None, 256)               0         \n",
      "_________________________________________________________________\n",
      "dense_1 (Dense)              (None, 58)                14906     \n",
      "=================================================================\n",
      "Total params: 1,398,586\n",
      "Trainable params: 1,398,586\n",
      "Non-trainable params: 0\n",
      "_________________________________________________________________\n",
      "None\n",
      "WARNING:tensorflow:sample_weight modes were coerced from\n",
      "  ...\n",
      "    to  \n",
      "  ['...']\n",
      "WARNING:tensorflow:sample_weight modes were coerced from\n",
      "  ...\n",
      "    to  \n",
      "  ['...']\n",
      "Train for 103 steps, validate for 26 steps\n",
      "Epoch 1/10\n",
      "103/103 [==============================] - 24s 231ms/step - loss: 3.2248 - accuracy: 0.1911 - val_loss: 2.5698 - val_accuracy: 0.3341\n",
      "Epoch 2/10\n",
      "103/103 [==============================] - 22s 212ms/step - loss: 2.2176 - accuracy: 0.3807 - val_loss: 1.7586 - val_accuracy: 0.5252\n",
      "Epoch 3/10\n",
      "103/103 [==============================] - 22s 211ms/step - loss: 1.7328 - accuracy: 0.4901 - val_loss: 1.2945 - val_accuracy: 0.6106\n",
      "Epoch 4/10\n",
      "103/103 [==============================] - 22s 215ms/step - loss: 1.4528 - accuracy: 0.5596 - val_loss: 1.1184 - val_accuracy: 0.6803\n",
      "Epoch 5/10\n",
      "103/103 [==============================] - 22s 216ms/step - loss: 1.1482 - accuracy: 0.6429 - val_loss: 0.8738 - val_accuracy: 0.7320\n",
      "Epoch 6/10\n",
      "103/103 [==============================] - 24s 238ms/step - loss: 0.9316 - accuracy: 0.7123 - val_loss: 0.6792 - val_accuracy: 0.7861\n",
      "Epoch 7/10\n",
      "103/103 [==============================] - 23s 219ms/step - loss: 0.7908 - accuracy: 0.7501 - val_loss: 0.5969 - val_accuracy: 0.8113\n",
      "Epoch 8/10\n",
      "103/103 [==============================] - 25s 242ms/step - loss: 0.6999 - accuracy: 0.7799 - val_loss: 0.5098 - val_accuracy: 0.8413\n",
      "Epoch 9/10\n",
      "103/103 [==============================] - 25s 239ms/step - loss: 0.6046 - accuracy: 0.8095 - val_loss: 0.4331 - val_accuracy: 0.8702\n",
      "Epoch 10/10\n",
      "103/103 [==============================] - 30s 289ms/step - loss: 0.5413 - accuracy: 0.8196 - val_loss: 0.4045 - val_accuracy: 0.8702\n"
     ]
    }
   ],
   "source": [
    "print(model.summary())\n",
    "history = model.fit(\n",
    "          train_generator,\n",
    "          steps_per_epoch=train_generator.samples // batch_size,\n",
    "          epochs=10,\n",
    "          validation_data=validation_generator,\n",
    "          validation_steps=validation_generator.samples // batch_size          \n",
    "          )"
   ]
  },
  {
   "cell_type": "code",
   "execution_count": 7,
   "metadata": {},
   "outputs": [
    {
     "data": {
      "image/png": "[encoded data removed]",
      "text/plain": [
       "<Figure size 864x432 with 2 Axes>"
      ]
     },
     "metadata": {
      "needs_background": "light"
     },
     "output_type": "display_data"
    }
   ],
   "source": [
    "# Plot training history\n",
    "plt.figure(figsize=(12,6))\n",
    "\n",
    "# Plot training and validation accuracy values\n",
    "plt.subplot(1,2,1)\n",
    "plt.plot(history.history['accuracy'])\n",
    "plt.plot(history.history['val_accuracy'])\n",
    "plt.title('Model accuracy')\n",
    "plt.ylabel('Accuracy')\n",
    "plt.xlabel('Epoch')\n",
    "plt.legend(['Train', 'Validation'], loc='upper left')\n",
    "plt.grid(True)\n",
    "\n",
    "# Plot training and validation loss values\n",
    "plt.subplot(1,2,2)\n",
    "plt.plot(history.history['loss'])\n",
    "plt.plot(history.history['val_loss'])\n",
    "plt.title('Model loss')\n",
    "plt.ylabel('Loss')\n",
    "plt.xlabel('Epoch')\n",
    "plt.legend(['Train', 'Validation'], loc='upper left')\n",
    "plt.grid(True)\n",
    "\n",
    "plt.tight_layout()\n",
    "plt.show()"
   ]
  },
  {
   "cell_type": "code",
   "execution_count": 8,
   "metadata": {},
   "outputs": [],
   "source": [
    "# save the entire model\n",
    "model.save('model.h5')   "
   ]
  }
 ],
 "metadata": {
  "kernelspec": {
   "display_name": "gputest",
   "language": "python",
   "name": "gputest"
  },
  "language_info": {
   "codemirror_mode": {
    "name": "ipython",
    "version": 3
   },
   "file_extension": ".py",
   "mimetype": "text/x-python",
   "name": "python",
   "nbconvert_exporter": "python",
   "pygments_lexer": "ipython3",
   "version": "3.7.9"
  }
 },
 "nbformat": 4,
 "nbformat_minor": 4
}
